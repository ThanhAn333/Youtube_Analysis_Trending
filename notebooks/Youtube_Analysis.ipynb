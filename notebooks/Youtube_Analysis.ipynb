{
 "cells": [
  {
   "cell_type": "code",
   "execution_count": 2,
   "id": "e49b87ab-4c7c-43c7-ba2e-69ac292181bb",
   "metadata": {},
   "outputs": [],
   "source": [
    "from pyspark.sql import SparkSession\n",
    "import matplotlib.pyplot as plt\n",
    "import pandas as pd"
   ]
  },
  {
   "cell_type": "code",
   "execution_count": 3,
   "id": "a9f84fc3-2a5d-4a4e-a136-06b9b498a166",
   "metadata": {},
   "outputs": [],
   "source": [
    "spark = SparkSession.builder \\\n",
    "    .appName(\"YouTubeTrendAnalysis\") \\\n",
    "    .config(\"spark.hadoop.fs.s3a.endpoint\", \"http://localstack:4566\") \\\n",
    "    .config(\"spark.hadoop.fs.s3a.access.key\", \"test\") \\\n",
    "    .config(\"spark.hadoop.fs.s3a.secret.key\", \"test\") \\\n",
    "    .config(\"spark.hadoop.fs.s3a.path.style.access\", \"true\") \\\n",
    "    .config(\"spark.hadoop.fs.s3a.impl\", \"org.apache.hadoop.fs.s3a.S3AFileSystem\") \\\n",
    "    .getOrCreate()"
   ]
  },
  {
   "cell_type": "code",
   "execution_count": 4,
   "id": "80167aee-dfdd-4ebf-b150-3f6b704e80fc",
   "metadata": {},
   "outputs": [
    {
     "name": "stdout",
     "output_type": "stream",
     "text": [
      "+-----------+--------------------------+-----------+-------------+--------+------+--------+------+--------------------+--------------------+\n",
      "|         id|                     title|category_id|category_name|   views| likes|comments|region|           timestamp|    engagement_ratio|\n",
      "+-----------+--------------------------+-----------+-------------+--------+------+--------+------+--------------------+--------------------+\n",
      "|de6UvFKbuZQ|      Em Xinh Say Hi Tậ...|         10|      Unknown| 7304635| 80209|    8624|    VN|2025-06-20T06:52:...|0.010980562341581748|\n",
      "|Ry1rYSCIfBg|      Cách để uống trà ...|         22|      Unknown| 6454374| 81020|     206|    VN|2025-06-20T06:52:...|0.012552727809079548|\n",
      "|TuZpmKmF7Ps|      Nắng nóng mà gặp ...|         24|      Unknown| 1966387| 31776|     136|    VN|2025-06-20T06:52:...|0.016159586083512555|\n",
      "|KjflhsdN170|      $1 vs $1000 Water...|         22|      Unknown|45967089|697859|     801|    VN|2025-06-20T06:52:...|0.015181709679288153|\n",
      "|OZuZhGxkvD0|      Bún vs Lạc tranh ...|         22|      Unknown| 1228971| 15681|      37|    VN|2025-06-20T06:52:...|0.012759454861017877|\n",
      "|Rm8h2xWvFOk|      😤 Khi Bạn Lén Ăn...|         22|      Unknown| 5406756| 82778|     509|    VN|2025-06-20T06:52:...|0.015310104617260331|\n",
      "|eKDfG4JWTRg|#头脑特工队#家庭#搞笑#可爱|         22|      Unknown|37142699|406030|     343|    VN|2025-06-20T06:52:...|0.010931623466566067|\n",
      "|L6YZImsw-LE|      When they forget ...|         22|      Unknown|20329316|533070|    2504|    VN|2025-06-20T06:52:...|0.026221738104715377|\n",
      "|kBUre1NQ_K4|      Test Sức Mạnh OCD...|         20|      Unknown| 5072686|192407|     850|    VN|2025-06-20T06:52:...| 0.03793000394662709|\n",
      "|-3DHr66mdeA|      Pet revealing p3|...|         24|      Unknown|11776178|251081|     853|    VN|2025-06-20T06:52:...|0.021321094161450345|\n",
      "|HbTqOA5gXWk|      Đấu Trường Gia Tố...|         24|      Unknown| 2090790| 27192|    3607|    VN|2025-06-20T06:52:...|0.013005610319544288|\n",
      "|OqkU0MXEbx0|      Watermelon Cappuc...|         24|      Unknown|24482936|584786|     334|    VN|2025-06-20T06:52:...|0.023885452300328687|\n",
      "+-----------+--------------------------+-----------+-------------+--------+------+--------+------+--------------------+--------------------+\n",
      "only showing top 12 rows\n",
      "\n"
     ]
    }
   ],
   "source": [
    "df = spark.read.parquet(\"s3a://youtube-trend-data/transformed/\")\n",
    "df.show(12)"
   ]
  },
  {
   "cell_type": "code",
   "execution_count": 5,
   "id": "a11e0442-6ab4-492c-870b-ff2258ca367f",
   "metadata": {},
   "outputs": [
    {
     "ename": "NameError",
     "evalue": "name 'categoryname' is not defined",
     "output_type": "error",
     "traceback": [
      "\u001b[0;31m---------------------------------------------------------------------------\u001b[0m",
      "\u001b[0;31mNameError\u001b[0m                                 Traceback (most recent call last)",
      "Cell \u001b[0;32mIn[5], line 1\u001b[0m\n\u001b[0;32m----> 1\u001b[0m \u001b[43mcategoryname\u001b[49m\u001b[38;5;241m.\u001b[39mselect(\u001b[38;5;124m\"\u001b[39m\u001b[38;5;124mcategory_id\u001b[39m\u001b[38;5;124m\"\u001b[39m, \u001b[38;5;124m\"\u001b[39m\u001b[38;5;124mcategory_name\u001b[39m\u001b[38;5;124m\"\u001b[39m) \\\n\u001b[1;32m      2\u001b[0m     \u001b[38;5;241m.\u001b[39mdistinct() \\\n\u001b[1;32m      3\u001b[0m     \u001b[38;5;241m.\u001b[39morderBy(\u001b[38;5;124m\"\u001b[39m\u001b[38;5;124mcategory_id\u001b[39m\u001b[38;5;124m\"\u001b[39m) \\\n\u001b[1;32m      4\u001b[0m     \u001b[38;5;241m.\u001b[39mshow(truncate\u001b[38;5;241m=\u001b[39m\u001b[38;5;28;01mFalse\u001b[39;00m)\n",
      "\u001b[0;31mNameError\u001b[0m: name 'categoryname' is not defined"
     ]
    }
   ],
   "source": [
    "df.select(\"category_id\", \"category_name\") \\\n",
    "    .distinct() \\\n",
    "    .orderBy(\"category_id\") \\\n",
    "    .show(truncate=False)"
   ]
  },
  {
   "cell_type": "code",
   "execution_count": null,
   "id": "5fb1b06f-9581-43a5-9f2c-128b0fc2b3ea",
   "metadata": {},
   "outputs": [],
   "source": [
    "from pyspark.sql import functions as F\n",
    "from pyspark.sql.functions import when, col"
   ]
  },
  {
   "cell_type": "code",
   "execution_count": null,
   "id": "86c9d095-33db-4a94-b5ff-b87b013a7974",
   "metadata": {},
   "outputs": [],
   "source": [
    "category_mapping = categoryname.filter(\n",
    "    (F.col(\"category_name\").isNotNull()) & \n",
    "    (F.col(\"category_name\") != \"Unknown\")\n",
    ").select(\n",
    "    \"category_id\", \n",
    "    F.col(\"category_name\").alias(\"valid_category_name\")  # Đặt tên mới\n",
    ").distinct()"
   ]
  },
  {
   "cell_type": "code",
   "execution_count": null,
   "id": "ab709366-940b-49c5-bc3b-b2b74d61bf18",
   "metadata": {},
   "outputs": [],
   "source": [
    "category_filled = categoryname.join(\n",
    "    category_mapping,\n",
    "    on=\"category_id\",\n",
    "    how=\"left\"\n",
    ").withColumn(\n",
    "    \"category_name_cleaned\",\n",
    "    F.when(\n",
    "        (F.col(\"category_name\").isNull()) | (F.col(\"category_name\") == \"Unknown\"),\n",
    "        F.col(\"valid_category_name\")\n",
    "    ).otherwise(F.col(\"category_name\"))\n",
    ").drop(\"category_name\").withColumnRenamed(\"category_name_cleaned\", \"category_name\")"
   ]
  },
  {
   "cell_type": "code",
   "execution_count": null,
   "id": "8ca19d65-e8fb-42c5-9015-2d2eb90c9de5",
   "metadata": {},
   "outputs": [],
   "source": [
    "category_filled.select(\"category_id\", \"category_name\").distinct().show(truncate=False)"
   ]
  },
  {
   "cell_type": "code",
   "execution_count": null,
   "id": "77302b07-7ff3-4bce-b062-7091c76f85e6",
   "metadata": {},
   "outputs": [],
   "source": [
    "category_mapping_df = spark.createDataFrame([\n",
    "    (28, \"Science & Technology\"),\n",
    "    (24, \"Entertainment\"),\n",
    "    (19, \"Travel & Events\"),\n",
    "    (1,  \"Film & Animation\"),\n",
    "    (20, \"Gaming\"),\n",
    "    (25, \"News & Politics\"),\n",
    "    (10, \"Music\"),\n",
    "    (27, \"Education\"),\n",
    "    (23, \"Comedy\"),\n",
    "    (17, \"Sports\"),\n",
    "    (22, \"People & Blogs\"),\n",
    "    (26, \"Howto & Style\"),\n",
    "    (15, \"Pets & Animals\"),\n",
    "    (2, \"Autos & Vehicles\")\n",
    "], [\"category_id\", \"category_name_mapped\"])"
   ]
  },
  {
   "cell_type": "code",
   "execution_count": null,
   "id": "066e3116-cb17-4c6b-bfd6-00c89291d8c2",
   "metadata": {},
   "outputs": [],
   "source": [
    "df = df.join(\n",
    "    category_mapping_df,\n",
    "    on=\"category_id\",\n",
    "    how=\"left\"\n",
    ").withColumn(\n",
    "    \"category_name\",\n",
    "    when(col(\"category_name\") == \"Unknown\", col(\"category_name_mapped\"))\n",
    "    .otherwise(col(\"category_name\"))\n",
    ").drop(\"category_name_mapped\")"
   ]
  },
  {
   "cell_type": "code",
   "execution_count": null,
   "id": "564d7aed-c05e-4f58-b595-2965d9957972",
   "metadata": {},
   "outputs": [],
   "source": [
    "df.select(\"category_id\", \"category_name\").distinct().show(truncate=False)"
   ]
  },
  {
   "cell_type": "code",
   "execution_count": null,
   "id": "176ebf2e-f4c3-473a-b575-c2281d9227be",
   "metadata": {},
   "outputs": [],
   "source": [
    "df.show()"
   ]
  },
  {
   "cell_type": "code",
   "execution_count": null,
   "id": "9f6fc690-9b21-4104-bff9-798f1a2a0876",
   "metadata": {},
   "outputs": [],
   "source": [
    "df.createOrReplaceTempView(\"youtube_trends\")"
   ]
  },
  {
   "cell_type": "code",
   "execution_count": null,
   "id": "81e2be78-82d2-45e3-aa62-cf7e5fc389a3",
   "metadata": {},
   "outputs": [],
   "source": [
    "count_videos_region = spark.sql(\"\"\"SELECT region, COUNT(*) as video_count\n",
    "FROM youtube_trends\n",
    "GROUP BY region\"\"\").show()"
   ]
  },
  {
   "cell_type": "code",
   "execution_count": null,
   "id": "3f415ce1-e40b-4f42-a595-5fe3e1885bab",
   "metadata": {},
   "outputs": [],
   "source": [
    "engagement_by_region = spark.sql(\"\"\"\n",
    "    SELECT region, AVG(engagement_ratio) as avg_engagement_ratio\n",
    "    FROM youtube_trends\n",
    "    WHERE views > 0\n",
    "    GROUP BY region\n",
    "    ORDER BY avg_engagement_ratio DESC\n",
    "\"\"\")"
   ]
  },
  {
   "cell_type": "code",
   "execution_count": null,
   "id": "6362514c-1e90-4ec0-b676-8734632fbe6a",
   "metadata": {},
   "outputs": [],
   "source": [
    "top_categories = spark.sql(\"\"\"\n",
    "    SELECT category_name, AVG(views) as avg_views\n",
    "    FROM youtube_trends\n",
    "    GROUP BY category_name\n",
    "    ORDER BY avg_views DESC\n",
    "    LIMIT 5\n",
    "\"\"\")"
   ]
  },
  {
   "cell_type": "code",
   "execution_count": null,
   "id": "4a5dde4c-6cc9-4ae1-ad01-1669b56fb2fb",
   "metadata": {},
   "outputs": [],
   "source": [
    "top_categories_pd = top_categories.toPandas()\n",
    "engagement_by_region_pd = engagement_by_region.toPandas()"
   ]
  },
  {
   "cell_type": "code",
   "execution_count": null,
   "id": "0f09cb2e-4de8-4cc1-8138-6a1e2dfd8634",
   "metadata": {},
   "outputs": [],
   "source": [
    "plt.figure(figsize=(10, 6))\n",
    "plt.bar(top_categories_pd['category_name'], top_categories_pd['avg_views'], color='skyblue')\n",
    "plt.xlabel('Category ID')\n",
    "plt.ylabel('Average Views')\n",
    "plt.title('Top 5 Categories by Average Views')\n",
    "plt.xticks(rotation=45)\n",
    "for i, v in enumerate(top_categories_pd['avg_views']):\n",
    "    plt.text(i, v, f'{v:,.0f}', ha='center', va='bottom')\n",
    "plt.tight_layout()\n",
    "plt.show()"
   ]
  },
  {
   "cell_type": "code",
   "execution_count": null,
   "id": "7edc5aec-3805-4b95-8af5-bb75db1cbda6",
   "metadata": {},
   "outputs": [],
   "source": [
    "# Phân tích lượt xem trung bình theo danh mục\n",
    "avg_views = spark.sql(\"\"\"\n",
    "    SELECT category_name, region, AVG(views) as avg_views\n",
    "    FROM youtube_trends\n",
    "    GROUP BY category_name, region\n",
    "    ORDER BY avg_views DESC\n",
    "\"\"\")"
   ]
  },
  {
   "cell_type": "code",
   "execution_count": null,
   "id": "fda4fe9d-209c-45b8-9f0d-470b00b773d6",
   "metadata": {},
   "outputs": [],
   "source": []
  }
 ],
 "metadata": {
  "kernelspec": {
   "display_name": "Python 3 (ipykernel)",
   "language": "python",
   "name": "python3"
  },
  "language_info": {
   "codemirror_mode": {
    "name": "ipython",
    "version": 3
   },
   "file_extension": ".py",
   "mimetype": "text/x-python",
   "name": "python",
   "nbconvert_exporter": "python",
   "pygments_lexer": "ipython3",
   "version": "3.11.6"
  }
 },
 "nbformat": 4,
 "nbformat_minor": 5
}
