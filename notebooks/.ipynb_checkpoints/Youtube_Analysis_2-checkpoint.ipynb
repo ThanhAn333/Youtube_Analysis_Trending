{
 "cells": [
  {
   "cell_type": "markdown",
   "id": "686512dc",
   "metadata": {},
   "source": [
    "# Phân tích dữ liệu YouTube bằng PySpark và trực quan hóa kết quả\n",
    "\n",
    "Notebook này hướng dẫn phân tích dữ liệu YouTube sử dụng PySpark và trực quan hóa kết quả với matplotlib/pandas."
   ]
  },
  {
   "cell_type": "markdown",
   "id": "78e88429",
   "metadata": {},
   "source": [
    "## 1. Khởi tạo SparkSession và nhập các thư viện cần thiết\n",
    "\n",
    "Khởi tạo SparkSession và import các thư viện cần thiết như pyspark, matplotlib, pandas."
   ]
  },
  {
   "cell_type": "code",
   "execution_count": null,
   "id": "f913bc4c",
   "metadata": {},
   "outputs": [],
   "source": [
    "from pyspark.sql import SparkSession\n",
    "import matplotlib.pyplot as plt\n",
    "import pandas as pd\n",
    "\n",
    "# Khởi tạo SparkSession\n",
    "spark = SparkSession.builder \\\n",
    "    .appName(\"YouTubeTrendAnalysis\") \\\n",
    "    .config(\"spark.hadoop.fs.s3a.endpoint\", \"http://localstack:4566\") \\\n",
    "    .config(\"spark.hadoop.fs.s3a.access.key\", \"test\") \\\n",
    "    .config(\"spark.hadoop.fs.s3a.secret.key\", \"test\") \\\n",
    "    .config(\"spark.hadoop.fs.s3a.path.style.access\", \"true\") \\\n",
    "    .config(\"spark.hadoop.fs.s3a.impl\", \"org.apache.hadoop.fs.s3a.S3AFileSystem\") \\\n",
    "    .getOrCreate()"
   ]
  },
  {
   "cell_type": "markdown",
   "id": "37cc311a",
   "metadata": {},
   "source": [
    "## 2. Đọc dữ liệu YouTube từ S3 bằng PySpark\n",
    "\n",
    "Sử dụng Spark để đọc dữ liệu parquet từ S3 và hiển thị một số dòng đầu tiên."
   ]
  },
  {
   "cell_type": "code",
   "execution_count": null,
   "id": "5f383d89",
   "metadata": {},
   "outputs": [],
   "source": [
    "# Đọc dữ liệu parquet từ S3\n",
    "df = spark.read.parquet(\"s3a://youtube-trend-data/transformed/\")\n",
    "df.show(12)"
   ]
  },
  {
   "cell_type": "markdown",
   "id": "4dd4398f",
   "metadata": {},
   "source": [
    "## 3. Tiền xử lý dữ liệu danh mục video\n",
    "\n",
    "Làm sạch và chuẩn hóa tên danh mục video, xử lý các giá trị thiếu hoặc không xác định."
   ]
  },
  {
   "cell_type": "code",
   "execution_count": null,
   "id": "36cbacb3",
   "metadata": {},
   "outputs": [],
   "source": [
    "from pyspark.sql import functions as F\n",
    "from pyspark.sql.functions import when, col\n",
    "\n",
    "# Giả sử đã có DataFrame categoryname chứa thông tin danh mục\n",
    "# Làm sạch tên danh mục\n",
    "category_mapping = categoryname.filter(\n",
    "    (F.col(\"category_name\").isNotNull()) & \n",
    "    (F.col(\"category_name\") != \"Unknown\")\n",
    ").select(\n",
    "    \"category_id\", \n",
    "    F.col(\"category_name\").alias(\"valid_category_name\")\n",
    ").distinct()\n",
    "\n",
    "category_filled = categoryname.join(\n",
    "    category_mapping,\n",
    "    on=\"category_id\",\n",
    "    how=\"left\"\n",
    ").withColumn(\n",
    "    \"category_name_cleaned\",\n",
    "    F.when(\n",
    "        (F.col(\"category_name\").isNull()) | (F.col(\"category_name\") == \"Unknown\"),\n",
    "        F.col(\"valid_category_name\")\n",
    "    ).otherwise(F.col(\"category_name\"))\n",
    ").drop(\"category_name\").withColumnRenamed(\"category_name_cleaned\", \"category_name\")\n",
    "\n",
    "category_filled.select(\"category_id\", \"category_name\").distinct().show(truncate=False)"
   ]
  },
  {
   "cell_type": "markdown",
   "id": "f5fdaef0",
   "metadata": {},
   "source": [
    "## 4. Gắn tên danh mục cho dữ liệu video\n",
    "\n",
    "Join bảng dữ liệu video với bảng mapping danh mục để gắn tên danh mục đầy đủ."
   ]
  },
  {
   "cell_type": "code",
   "execution_count": null,
   "id": "55d4680a",
   "metadata": {},
   "outputs": [],
   "source": [
    "# Tạo bảng mapping thủ công nếu cần\n",
    "category_mapping_df = spark.createDataFrame([\n",
    "    (28, \"Science & Technology\"),\n",
    "    (24, \"Entertainment\"),\n",
    "    (19, \"Travel & Events\"),\n",
    "    (1,  \"Film & Animation\"),\n",
    "    (20, \"Gaming\"),\n",
    "    (25, \"News & Politics\"),\n",
    "    (10, \"Music\"),\n",
    "    (27, \"Education\"),\n",
    "    (23, \"Comedy\"),\n",
    "    (17, \"Sports\"),\n",
    "    (22, \"People & Blogs\"),\n",
    "    (26, \"Howto & Style\"),\n",
    "    (15, \"Pets & Animals\"),\n",
    "    (2, \"Autos & Vehicles\")\n",
    "], [\"category_id\", \"category_name_mapped\"])\n",
    "\n",
    "# Gắn tên danh mục cho dữ liệu video\n",
    "df = df.join(\n",
    "    category_mapping_df,\n",
    "    on=\"category_id\",\n",
    "    how=\"left\"\n",
    ").withColumn(\n",
    "    \"category_name\",\n",
    "    when(col(\"category_name\") == \"Unknown\", col(\"category_name_mapped\"))\n",
    "    .otherwise(col(\"category_name\"))\n",
    ").drop(\"category_name_mapped\")\n",
    "\n",
    "df.select(\"category_id\", \"category_name\").distinct().show(truncate=False)"
   ]
  },
  {
   "cell_type": "markdown",
   "id": "177937b4",
   "metadata": {},
   "source": [
    "## 5. Tạo bảng tạm thời cho truy vấn SQL\n",
    "\n",
    "Tạo bảng tạm thời (temp view) để có thể truy vấn dữ liệu bằng Spark SQL."
   ]
  },
  {
   "cell_type": "code",
   "execution_count": null,
   "id": "133a10b6",
   "metadata": {},
   "outputs": [],
   "source": [
    "df.createOrReplaceTempView(\"youtube_trends\")"
   ]
  },
  {
   "cell_type": "markdown",
   "id": "a911c750",
   "metadata": {},
   "source": [
    "## 6. Thống kê số lượng video theo khu vực\n",
    "\n",
    "Truy vấn và hiển thị số lượng video theo từng khu vực (region)."
   ]
  },
  {
   "cell_type": "code",
   "execution_count": null,
   "id": "c9c7f9c1",
   "metadata": {},
   "outputs": [],
   "source": [
    "count_videos_region = spark.sql(\"\"\"\n",
    "    SELECT region, COUNT(*) as video_count\n",
    "    FROM youtube_trends\n",
    "    GROUP BY region\n",
    "\"\"\")\n",
    "count_videos_region.show()"
   ]
  },
  {
   "cell_type": "markdown",
   "id": "1333a86e",
   "metadata": {},
   "source": [
    "## 7. Phân tích tỷ lệ tương tác trung bình theo khu vực\n",
    "\n",
    "Tính toán và sắp xếp tỷ lệ tương tác trung bình (engagement_ratio) theo khu vực."
   ]
  },
  {
   "cell_type": "code",
   "execution_count": null,
   "id": "a06ec1b3",
   "metadata": {},
   "outputs": [],
   "source": [
    "engagement_by_region = spark.sql(\"\"\"\n",
    "    SELECT region, AVG(engagement_ratio) as avg_engagement_ratio\n",
    "    FROM youtube_trends\n",
    "    WHERE views > 0\n",
    "    GROUP BY region\n",
    "    ORDER BY avg_engagement_ratio DESC\n",
    "\"\"\")\n",
    "engagement_by_region.show()"
   ]
  },
  {
   "cell_type": "markdown",
   "id": "de03af4e",
   "metadata": {},
   "source": [
    "## 8. Phân tích top 5 danh mục có lượt xem trung bình cao nhất\n",
    "\n",
    "Truy vấn và lấy ra 5 danh mục có lượt xem trung bình cao nhất."
   ]
  },
  {
   "cell_type": "code",
   "execution_count": null,
   "id": "bf25ab14",
   "metadata": {},
   "outputs": [],
   "source": [
    "top_categories = spark.sql(\"\"\"\n",
    "    SELECT category_name, AVG(views) as avg_views\n",
    "    FROM youtube_trends\n",
    "    GROUP BY category_name\n",
    "    ORDER BY avg_views DESC\n",
    "    LIMIT 5\n",
    "\"\"\")\n",
    "top_categories.show()"
   ]
  },
  {
   "cell_type": "markdown",
   "id": "bafec8b4",
   "metadata": {},
   "source": [
    "## 9. Trực quan hóa top 5 danh mục theo lượt xem trung bình\n",
    "\n",
    "Chuyển kết quả sang pandas và vẽ biểu đồ cột thể hiện top 5 danh mục theo lượt xem trung bình."
   ]
  },
  {
   "cell_type": "code",
   "execution_count": null,
   "id": "568997bb",
   "metadata": {},
   "outputs": [],
   "source": [
    "top_categories_pd = top_categories.toPandas()\n",
    "\n",
    "plt.figure(figsize=(10, 6))\n",
    "plt.bar(top_categories_pd['category_name'], top_categories_pd['avg_views'], color='skyblue')\n",
    "plt.xlabel('Tên danh mục')\n",
    "plt.ylabel('Lượt xem trung bình')\n",
    "plt.title('Top 5 danh mục có lượt xem trung bình cao nhất')\n",
    "plt.xticks(rotation=45)\n",
    "for i, v in enumerate(top_categories_pd['avg_views']):\n",
    "    plt.text(i, v, f'{v:,.0f}', ha='center', va='bottom')\n",
    "plt.tight_layout()\n",
    "plt.show()"
   ]
  },
  {
   "cell_type": "markdown",
   "id": "f3dfd69b",
   "metadata": {},
   "source": [
    "## 10. Phân tích lượt xem trung bình theo danh mục và khu vực\n",
    "\n",
    "Truy vấn lượt xem trung bình theo từng danh mục và khu vực, sắp xếp theo lượt xem giảm dần."
   ]
  },
  {
   "cell_type": "code",
   "execution_count": null,
   "id": "1a414746",
   "metadata": {},
   "outputs": [],
   "source": [
    "avg_views = spark.sql(\"\"\"\n",
    "    SELECT category_name, region, AVG(views) as avg_views\n",
    "    FROM youtube_trends\n",
    "    GROUP BY category_name, region\n",
    "    ORDER BY avg_views DESC\n",
    "\"\"\")\n",
    "avg_views.show()"
   ]
  },
  {
   "cell_type": "markdown",
   "id": "53f895a2",
   "metadata": {},
   "source": [
    "## 11. Trực quan hóa lượt xem trung bình theo danh mục và khu vực\n",
    "\n",
    "Chuyển kết quả sang pandas và vẽ biểu đồ heatmap thể hiện lượt xem trung bình theo danh mục và khu vực."
   ]
  },
  {
   "cell_type": "code",
   "execution_count": null,
   "id": "dfb51624",
   "metadata": {},
   "outputs": [],
   "source": [
    "avg_views_pd = avg_views.toPandas()\n",
    "\n",
    "# Pivot để tạo ma trận cho heatmap\n",
    "pivot_table = avg_views_pd.pivot(index='category_name', columns='region', values='avg_views')\n",
    "\n",
    "plt.figure(figsize=(12, 8))\n",
    "plt.imshow(pivot_table, aspect='auto', cmap='YlGnBu')\n",
    "plt.colorbar(label='Lượt xem trung bình')\n",
    "plt.xticks(ticks=range(len(pivot_table.columns)), labels=pivot_table.columns, rotation=45)\n",
    "plt.yticks(ticks=range(len(pivot_table.index)), labels=pivot_table.index)\n",
    "plt.title('Heatmap lượt xem trung bình theo danh mục và khu vực')\n",
    "plt.xlabel('Khu vực')\n",
    "plt.ylabel('Danh mục')\n",
    "plt.tight_layout()\n",
    "plt.show()"
   ]
  }
 ],
 "metadata": {
  "language_info": {
   "name": "python"
  }
 },
 "nbformat": 4,
 "nbformat_minor": 5
}
